{
 "cells": [
  {
   "cell_type": "markdown",
   "source": [
    "<h1 style=\"color: green\">Explore the data<h1>"
   ],
   "metadata": {
    "collapsed": false
   },
   "id": "50f59a551eda40d5"
  },
  {
   "cell_type": "code",
   "execution_count": 348,
   "outputs": [],
   "source": [
    "from sklearn.datasets import load_linnerud\n",
    "\n",
    "linnerud = load_linnerud()"
   ],
   "metadata": {
    "collapsed": false,
    "ExecuteTime": {
     "start_time": "2023-11-07T17:51:48.189189900Z"
    }
   },
   "id": "initial_id"
  },
  {
   "cell_type": "code",
   "execution_count": 349,
   "outputs": [
    {
     "name": "stdout",
     "output_type": "stream",
     "text": [
      ".. _linnerrud_dataset:\n",
      "\n",
      "Linnerrud dataset\n",
      "-----------------\n",
      "\n",
      "**Data Set Characteristics:**\n",
      "\n",
      "    :Number of Instances: 20\n",
      "    :Number of Attributes: 3\n",
      "    :Missing Attribute Values: None\n",
      "\n",
      "The Linnerud dataset is a multi-output regression dataset. It consists of three\n",
      "exercise (data) and three physiological (target) variables collected from\n",
      "twenty middle-aged men in a fitness club:\n",
      "\n",
      "- *physiological* - CSV containing 20 observations on 3 physiological variables:\n",
      "   Weight, Waist and Pulse.\n",
      "- *exercise* - CSV containing 20 observations on 3 exercise variables:\n",
      "   Chins, Situps and Jumps.\n",
      "\n",
      "|details-start|\n",
      "**References**\n",
      "|details-split|\n",
      "\n",
      "* Tenenhaus, M. (1998). La regression PLS: theorie et pratique. Paris:\n",
      "  Editions Technic.\n",
      "\n",
      "|details-end|\n"
     ]
    }
   ],
   "source": [
    "print(linnerud.DESCR)"
   ],
   "metadata": {
    "collapsed": false,
    "ExecuteTime": {
     "end_time": "2023-11-07T17:51:48.939320Z",
     "start_time": "2023-11-07T17:51:48.923602600Z"
    }
   },
   "id": "b1fe944e96147922"
  },
  {
   "cell_type": "code",
   "execution_count": 350,
   "outputs": [
    {
     "data": {
      "text/plain": "['Chins', 'Situps', 'Jumps']"
     },
     "execution_count": 350,
     "metadata": {},
     "output_type": "execute_result"
    }
   ],
   "source": [
    "linnerud.feature_names"
   ],
   "metadata": {
    "collapsed": false,
    "ExecuteTime": {
     "end_time": "2023-11-07T17:51:49.577703Z",
     "start_time": "2023-11-07T17:51:49.546458300Z"
    }
   },
   "id": "aadaf7bbf6f7aef0"
  },
  {
   "cell_type": "code",
   "execution_count": 351,
   "outputs": [
    {
     "data": {
      "text/plain": "['Weight', 'Waist', 'Pulse']"
     },
     "execution_count": 351,
     "metadata": {},
     "output_type": "execute_result"
    }
   ],
   "source": [
    "linnerud.target_names"
   ],
   "metadata": {
    "collapsed": false,
    "ExecuteTime": {
     "end_time": "2023-11-07T17:51:50.164589600Z",
     "start_time": "2023-11-07T17:51:50.117728300Z"
    }
   },
   "id": "28e8244950592cb6"
  },
  {
   "cell_type": "code",
   "execution_count": 352,
   "outputs": [
    {
     "name": "stdout",
     "output_type": "stream",
     "text": [
      "linnerud keys: \n",
      "dict_keys(['data', 'feature_names', 'target', 'target_names', 'frame', 'DESCR', 'data_filename', 'target_filename', 'data_module'])\n",
      "(20, 3)\n",
      "(20, 3)\n"
     ]
    }
   ],
   "source": [
    "print('linnerud keys: \\n{}'.format(linnerud.keys()))\n",
    "print(linnerud.data.shape)\n",
    "print(linnerud.target.shape)"
   ],
   "metadata": {
    "collapsed": false,
    "ExecuteTime": {
     "end_time": "2023-11-07T17:51:50.670423600Z",
     "start_time": "2023-11-07T17:51:50.623495200Z"
    }
   },
   "id": "660c83e4a3bac6a2"
  },
  {
   "cell_type": "code",
   "execution_count": 353,
   "outputs": [
    {
     "name": "stdout",
     "output_type": "stream",
     "text": [
      "    chins  sit_ups  jumps\n",
      "0     5.0    162.0   60.0\n",
      "1     2.0    110.0   60.0\n",
      "2    12.0    101.0  101.0\n",
      "3    12.0    105.0   37.0\n",
      "4    13.0    155.0   58.0\n",
      "5     4.0    101.0   42.0\n",
      "6     8.0    101.0   38.0\n",
      "7     6.0    125.0   40.0\n",
      "8    15.0    200.0   40.0\n",
      "9    17.0    251.0  250.0\n",
      "10   17.0    120.0   38.0\n",
      "11   13.0    210.0  115.0\n",
      "12   14.0    215.0  105.0\n",
      "13    1.0     50.0   50.0\n",
      "14    6.0     70.0   31.0\n",
      "15   12.0    210.0  120.0\n",
      "16    4.0     60.0   25.0\n",
      "17   11.0    230.0   80.0\n",
      "18   15.0    225.0   73.0\n",
      "19    2.0    110.0   43.0\n",
      "    weight  waist  pulse\n",
      "0    191.0   36.0   50.0\n",
      "1    189.0   37.0   52.0\n",
      "2    193.0   38.0   58.0\n",
      "3    162.0   35.0   62.0\n",
      "4    189.0   35.0   46.0\n",
      "5    182.0   36.0   56.0\n",
      "6    211.0   38.0   56.0\n",
      "7    167.0   34.0   60.0\n",
      "8    176.0   31.0   74.0\n",
      "9    154.0   33.0   56.0\n",
      "10   169.0   34.0   50.0\n",
      "11   166.0   33.0   52.0\n",
      "12   154.0   34.0   64.0\n",
      "13   247.0   46.0   50.0\n",
      "14   193.0   36.0   46.0\n",
      "15   202.0   37.0   62.0\n",
      "16   176.0   37.0   54.0\n",
      "17   157.0   32.0   52.0\n",
      "18   156.0   33.0   54.0\n",
      "19   138.0   33.0   68.0\n"
     ]
    }
   ],
   "source": [
    "import pandas as pd\n",
    "\n",
    "X, y = load_linnerud(return_X_y=True)\n",
    "\n",
    "df1 = pd.DataFrame(X, columns=['chins', 'sit_ups', 'jumps'])\n",
    "print(df1)\n",
    "\n",
    "df2 = pd.DataFrame(y, columns=['weight', 'waist', 'pulse'])\n",
    "print(df2)"
   ],
   "metadata": {
    "collapsed": false,
    "ExecuteTime": {
     "end_time": "2023-11-07T17:51:51.250366800Z",
     "start_time": "2023-11-07T17:51:51.172262300Z"
    }
   },
   "id": "c1c31a083b92acaf"
  },
  {
   "cell_type": "code",
   "execution_count": 354,
   "outputs": [
    {
     "data": {
      "text/plain": "    chins  sit_ups  jumps  weight  waist  pulse\n0     5.0    162.0   60.0   191.0   36.0   50.0\n1     2.0    110.0   60.0   189.0   37.0   52.0\n2    12.0    101.0  101.0   193.0   38.0   58.0\n3    12.0    105.0   37.0   162.0   35.0   62.0\n4    13.0    155.0   58.0   189.0   35.0   46.0\n5     4.0    101.0   42.0   182.0   36.0   56.0\n6     8.0    101.0   38.0   211.0   38.0   56.0\n7     6.0    125.0   40.0   167.0   34.0   60.0\n8    15.0    200.0   40.0   176.0   31.0   74.0\n9    17.0    251.0  250.0   154.0   33.0   56.0\n10   17.0    120.0   38.0   169.0   34.0   50.0\n11   13.0    210.0  115.0   166.0   33.0   52.0\n12   14.0    215.0  105.0   154.0   34.0   64.0\n13    1.0     50.0   50.0   247.0   46.0   50.0\n14    6.0     70.0   31.0   193.0   36.0   46.0\n15   12.0    210.0  120.0   202.0   37.0   62.0\n16    4.0     60.0   25.0   176.0   37.0   54.0\n17   11.0    230.0   80.0   157.0   32.0   52.0\n18   15.0    225.0   73.0   156.0   33.0   54.0\n19    2.0    110.0   43.0   138.0   33.0   68.0",
      "text/html": "<div>\n<style scoped>\n    .dataframe tbody tr th:only-of-type {\n        vertical-align: middle;\n    }\n\n    .dataframe tbody tr th {\n        vertical-align: top;\n    }\n\n    .dataframe thead th {\n        text-align: right;\n    }\n</style>\n<table border=\"1\" class=\"dataframe\">\n  <thead>\n    <tr style=\"text-align: right;\">\n      <th></th>\n      <th>chins</th>\n      <th>sit_ups</th>\n      <th>jumps</th>\n      <th>weight</th>\n      <th>waist</th>\n      <th>pulse</th>\n    </tr>\n  </thead>\n  <tbody>\n    <tr>\n      <th>0</th>\n      <td>5.0</td>\n      <td>162.0</td>\n      <td>60.0</td>\n      <td>191.0</td>\n      <td>36.0</td>\n      <td>50.0</td>\n    </tr>\n    <tr>\n      <th>1</th>\n      <td>2.0</td>\n      <td>110.0</td>\n      <td>60.0</td>\n      <td>189.0</td>\n      <td>37.0</td>\n      <td>52.0</td>\n    </tr>\n    <tr>\n      <th>2</th>\n      <td>12.0</td>\n      <td>101.0</td>\n      <td>101.0</td>\n      <td>193.0</td>\n      <td>38.0</td>\n      <td>58.0</td>\n    </tr>\n    <tr>\n      <th>3</th>\n      <td>12.0</td>\n      <td>105.0</td>\n      <td>37.0</td>\n      <td>162.0</td>\n      <td>35.0</td>\n      <td>62.0</td>\n    </tr>\n    <tr>\n      <th>4</th>\n      <td>13.0</td>\n      <td>155.0</td>\n      <td>58.0</td>\n      <td>189.0</td>\n      <td>35.0</td>\n      <td>46.0</td>\n    </tr>\n    <tr>\n      <th>5</th>\n      <td>4.0</td>\n      <td>101.0</td>\n      <td>42.0</td>\n      <td>182.0</td>\n      <td>36.0</td>\n      <td>56.0</td>\n    </tr>\n    <tr>\n      <th>6</th>\n      <td>8.0</td>\n      <td>101.0</td>\n      <td>38.0</td>\n      <td>211.0</td>\n      <td>38.0</td>\n      <td>56.0</td>\n    </tr>\n    <tr>\n      <th>7</th>\n      <td>6.0</td>\n      <td>125.0</td>\n      <td>40.0</td>\n      <td>167.0</td>\n      <td>34.0</td>\n      <td>60.0</td>\n    </tr>\n    <tr>\n      <th>8</th>\n      <td>15.0</td>\n      <td>200.0</td>\n      <td>40.0</td>\n      <td>176.0</td>\n      <td>31.0</td>\n      <td>74.0</td>\n    </tr>\n    <tr>\n      <th>9</th>\n      <td>17.0</td>\n      <td>251.0</td>\n      <td>250.0</td>\n      <td>154.0</td>\n      <td>33.0</td>\n      <td>56.0</td>\n    </tr>\n    <tr>\n      <th>10</th>\n      <td>17.0</td>\n      <td>120.0</td>\n      <td>38.0</td>\n      <td>169.0</td>\n      <td>34.0</td>\n      <td>50.0</td>\n    </tr>\n    <tr>\n      <th>11</th>\n      <td>13.0</td>\n      <td>210.0</td>\n      <td>115.0</td>\n      <td>166.0</td>\n      <td>33.0</td>\n      <td>52.0</td>\n    </tr>\n    <tr>\n      <th>12</th>\n      <td>14.0</td>\n      <td>215.0</td>\n      <td>105.0</td>\n      <td>154.0</td>\n      <td>34.0</td>\n      <td>64.0</td>\n    </tr>\n    <tr>\n      <th>13</th>\n      <td>1.0</td>\n      <td>50.0</td>\n      <td>50.0</td>\n      <td>247.0</td>\n      <td>46.0</td>\n      <td>50.0</td>\n    </tr>\n    <tr>\n      <th>14</th>\n      <td>6.0</td>\n      <td>70.0</td>\n      <td>31.0</td>\n      <td>193.0</td>\n      <td>36.0</td>\n      <td>46.0</td>\n    </tr>\n    <tr>\n      <th>15</th>\n      <td>12.0</td>\n      <td>210.0</td>\n      <td>120.0</td>\n      <td>202.0</td>\n      <td>37.0</td>\n      <td>62.0</td>\n    </tr>\n    <tr>\n      <th>16</th>\n      <td>4.0</td>\n      <td>60.0</td>\n      <td>25.0</td>\n      <td>176.0</td>\n      <td>37.0</td>\n      <td>54.0</td>\n    </tr>\n    <tr>\n      <th>17</th>\n      <td>11.0</td>\n      <td>230.0</td>\n      <td>80.0</td>\n      <td>157.0</td>\n      <td>32.0</td>\n      <td>52.0</td>\n    </tr>\n    <tr>\n      <th>18</th>\n      <td>15.0</td>\n      <td>225.0</td>\n      <td>73.0</td>\n      <td>156.0</td>\n      <td>33.0</td>\n      <td>54.0</td>\n    </tr>\n    <tr>\n      <th>19</th>\n      <td>2.0</td>\n      <td>110.0</td>\n      <td>43.0</td>\n      <td>138.0</td>\n      <td>33.0</td>\n      <td>68.0</td>\n    </tr>\n  </tbody>\n</table>\n</div>"
     },
     "execution_count": 354,
     "metadata": {},
     "output_type": "execute_result"
    }
   ],
   "source": [
    "linnerud_df = pd.merge(df1, df2, left_index=True, right_index=True)\n",
    "linnerud_df"
   ],
   "metadata": {
    "collapsed": false,
    "ExecuteTime": {
     "end_time": "2023-11-07T17:51:52.098613300Z",
     "start_time": "2023-11-07T17:51:51.980046500Z"
    }
   },
   "id": "c76b50934e56ffe6"
  },
  {
   "cell_type": "code",
   "execution_count": 355,
   "outputs": [
    {
     "data": {
      "text/plain": "           chins     sit_ups      jumps      weight      waist      pulse\ncount  20.000000   20.000000   20.00000   20.000000  20.000000  20.000000\nmean    9.450000  145.550000   70.30000  178.600000  35.400000  56.100000\nstd     5.286278   62.566575   51.27747   24.690505   3.201973   7.210373\nmin     1.000000   50.000000   25.00000  138.000000  31.000000  46.000000\n25%     4.750000  101.000000   39.50000  160.750000  33.000000  51.500000\n50%    11.500000  122.500000   54.00000  176.000000  35.000000  55.000000\n75%    13.250000  210.000000   85.25000  191.500000  37.000000  60.500000\nmax    17.000000  251.000000  250.00000  247.000000  46.000000  74.000000",
      "text/html": "<div>\n<style scoped>\n    .dataframe tbody tr th:only-of-type {\n        vertical-align: middle;\n    }\n\n    .dataframe tbody tr th {\n        vertical-align: top;\n    }\n\n    .dataframe thead th {\n        text-align: right;\n    }\n</style>\n<table border=\"1\" class=\"dataframe\">\n  <thead>\n    <tr style=\"text-align: right;\">\n      <th></th>\n      <th>chins</th>\n      <th>sit_ups</th>\n      <th>jumps</th>\n      <th>weight</th>\n      <th>waist</th>\n      <th>pulse</th>\n    </tr>\n  </thead>\n  <tbody>\n    <tr>\n      <th>count</th>\n      <td>20.000000</td>\n      <td>20.000000</td>\n      <td>20.00000</td>\n      <td>20.000000</td>\n      <td>20.000000</td>\n      <td>20.000000</td>\n    </tr>\n    <tr>\n      <th>mean</th>\n      <td>9.450000</td>\n      <td>145.550000</td>\n      <td>70.30000</td>\n      <td>178.600000</td>\n      <td>35.400000</td>\n      <td>56.100000</td>\n    </tr>\n    <tr>\n      <th>std</th>\n      <td>5.286278</td>\n      <td>62.566575</td>\n      <td>51.27747</td>\n      <td>24.690505</td>\n      <td>3.201973</td>\n      <td>7.210373</td>\n    </tr>\n    <tr>\n      <th>min</th>\n      <td>1.000000</td>\n      <td>50.000000</td>\n      <td>25.00000</td>\n      <td>138.000000</td>\n      <td>31.000000</td>\n      <td>46.000000</td>\n    </tr>\n    <tr>\n      <th>25%</th>\n      <td>4.750000</td>\n      <td>101.000000</td>\n      <td>39.50000</td>\n      <td>160.750000</td>\n      <td>33.000000</td>\n      <td>51.500000</td>\n    </tr>\n    <tr>\n      <th>50%</th>\n      <td>11.500000</td>\n      <td>122.500000</td>\n      <td>54.00000</td>\n      <td>176.000000</td>\n      <td>35.000000</td>\n      <td>55.000000</td>\n    </tr>\n    <tr>\n      <th>75%</th>\n      <td>13.250000</td>\n      <td>210.000000</td>\n      <td>85.25000</td>\n      <td>191.500000</td>\n      <td>37.000000</td>\n      <td>60.500000</td>\n    </tr>\n    <tr>\n      <th>max</th>\n      <td>17.000000</td>\n      <td>251.000000</td>\n      <td>250.00000</td>\n      <td>247.000000</td>\n      <td>46.000000</td>\n      <td>74.000000</td>\n    </tr>\n  </tbody>\n</table>\n</div>"
     },
     "execution_count": 355,
     "metadata": {},
     "output_type": "execute_result"
    }
   ],
   "source": [
    "linnerud_df.describe()"
   ],
   "metadata": {
    "collapsed": false,
    "ExecuteTime": {
     "end_time": "2023-11-07T17:51:53.328411500Z",
     "start_time": "2023-11-07T17:51:53.281547700Z"
    }
   },
   "id": "1f42950565c0f212"
  },
  {
   "cell_type": "code",
   "execution_count": 356,
   "outputs": [
    {
     "name": "stdout",
     "output_type": "stream",
     "text": [
      "<class 'pandas.core.frame.DataFrame'>\n",
      "RangeIndex: 20 entries, 0 to 19\n",
      "Data columns (total 6 columns):\n",
      " #   Column   Non-Null Count  Dtype  \n",
      "---  ------   --------------  -----  \n",
      " 0   chins    20 non-null     float64\n",
      " 1   sit_ups  20 non-null     float64\n",
      " 2   jumps    20 non-null     float64\n",
      " 3   weight   20 non-null     float64\n",
      " 4   waist    20 non-null     float64\n",
      " 5   pulse    20 non-null     float64\n",
      "dtypes: float64(6)\n",
      "memory usage: 1.1 KB\n"
     ]
    }
   ],
   "source": [
    "linnerud_df.info()"
   ],
   "metadata": {
    "collapsed": false,
    "ExecuteTime": {
     "end_time": "2023-11-07T17:51:53.915547Z",
     "start_time": "2023-11-07T17:51:53.853060100Z"
    }
   },
   "id": "b717edac20e3ae80"
  },
  {
   "cell_type": "code",
   "execution_count": 357,
   "outputs": [
    {
     "data": {
      "text/plain": "chins      0\nsit_ups    0\njumps      0\nweight     0\nwaist      0\npulse      0\ndtype: int64"
     },
     "execution_count": 357,
     "metadata": {},
     "output_type": "execute_result"
    }
   ],
   "source": [
    "linnerud_df.isna().sum()"
   ],
   "metadata": {
    "collapsed": false,
    "ExecuteTime": {
     "end_time": "2023-11-07T17:51:54.842943500Z",
     "start_time": "2023-11-07T17:51:54.796080500Z"
    }
   },
   "id": "1a6b93044e0c331c"
  },
  {
   "cell_type": "code",
   "execution_count": 358,
   "outputs": [
    {
     "data": {
      "text/plain": "<Axes: >"
     },
     "execution_count": 358,
     "metadata": {},
     "output_type": "execute_result"
    },
    {
     "data": {
      "text/plain": "<Figure size 800x600 with 2 Axes>",
      "image/png": "[encoded data removed]"
     },
     "metadata": {},
     "output_type": "display_data"
    }
   ],
   "source": [
    "import matplotlib.pyplot as plt\n",
    "import seaborn as sns\n",
    "\n",
    "correlation = linnerud_df.corr()\n",
    "fig, ax = plt.subplots(figsize=(8, 6))\n",
    "sns.heatmap(correlation)"
   ],
   "metadata": {
    "collapsed": false,
    "ExecuteTime": {
     "end_time": "2023-11-07T17:51:56.375322Z",
     "start_time": "2023-11-07T17:51:55.770532400Z"
    }
   },
   "id": "b11d91d0d5bfb13a"
  },
  {
   "cell_type": "code",
   "execution_count": 383,
   "outputs": [
    {
     "data": {
      "text/plain": "<Figure size 1000x1000 with 9 Axes>",
      "image/png": "[encoded data removed]"
     },
     "metadata": {},
     "output_type": "display_data"
    }
   ],
   "source": [
    "# the groups of feature data can be plotted against the target data as follows:\n",
    "\n",
    "fig, axs = plt.subplots(3, 3, figsize=(10, 10))\n",
    "fig.suptitle('linnerud dataset')\n",
    "\n",
    "for i in range(3):\n",
    "    for j in range(3):\n",
    "        axs[i, j].scatter(linnerud.data[:, i], linnerud.target[:, j])\n",
    "        axs[i, j].set_xlabel(linnerud.feature_names[i])\n",
    "        axs[i, j].set_ylabel(linnerud.target_names[j])\n",
    "\n",
    "plt.tight_layout()\n",
    "plt.show()"
   ],
   "metadata": {
    "collapsed": false,
    "ExecuteTime": {
     "end_time": "2023-11-07T18:14:38.852471300Z",
     "start_time": "2023-11-07T18:14:35.345589100Z"
    }
   },
   "id": "eddc83ec141682c5"
  },
  {
   "cell_type": "code",
   "execution_count": 375,
   "outputs": [
    {
     "name": "stdout",
     "output_type": "stream",
     "text": [
      "(15, 3)\n",
      "(5, 3)\n",
      "(15, 3)\n",
      "(5, 3)\n"
     ]
    }
   ],
   "source": [
    "from sklearn.model_selection import train_test_split\n",
    "\n",
    "X_train, X_test, y_train, y_test = train_test_split(linnerud.data, linnerud.target, random_state=0)\n",
    "print(X_train.shape)\n",
    "print(X_test.shape)\n",
    "print(y_train.shape)\n",
    "print(y_test.shape)"
   ],
   "metadata": {
    "collapsed": false,
    "ExecuteTime": {
     "end_time": "2023-11-07T17:56:28.379759300Z",
     "start_time": "2023-11-07T17:56:28.348514400Z"
    }
   },
   "id": "30539da0a9441e5a"
  },
  {
   "cell_type": "markdown",
   "source": [
    "<h1 style=\"color: green\">KNeighborsRegressor<h1>"
   ],
   "metadata": {
    "collapsed": false
   },
   "id": "28f47816003a419a"
  },
  {
   "cell_type": "code",
   "execution_count": 378,
   "outputs": [
    {
     "name": "stdout",
     "output_type": "stream",
     "text": [
      "number of neighbors: 1\n",
      "  target 1:\n",
      "mse: 443.00\n",
      "r2 score: -0.46\n",
      "  target 2:\n",
      "mse: 7.20\n",
      "r2 score: -0.88\n",
      "  target 3:\n",
      "mse: 168.00\n",
      "r2 score: -0.83\n",
      "overall performance:\n",
      "accuracy on the training dataset: 1.00\n",
      "accuracy on the testing dataset: -0.72\n",
      "\n",
      "mse: 206.07\n",
      "r2 score: -0.72\n",
      "\n",
      "number of neighbors: 5\n",
      "  target 1:\n",
      "mse: 515.72\n",
      "r2 score: -0.70\n",
      "  target 2:\n",
      "mse: 4.65\n",
      "r2 score: -0.21\n",
      "  target 3:\n",
      "mse: 121.82\n",
      "r2 score: -0.33\n",
      "overall performance:\n",
      "accuracy on the training dataset: 0.32\n",
      "accuracy on the testing dataset: -0.41\n",
      "\n",
      "mse: 214.06\n",
      "r2 score: -0.41\n",
      "\n",
      "number of neighbors: 10\n",
      "  target 1:\n",
      "mse: 745.79\n",
      "r2 score: -1.45\n",
      "  target 2:\n",
      "mse: 9.29\n",
      "r2 score: -1.42\n",
      "  target 3:\n",
      "mse: 109.63\n",
      "r2 score: -0.19\n",
      "overall performance:\n",
      "accuracy on the training dataset: 0.11\n",
      "accuracy on the testing dataset: -1.02\n",
      "\n",
      "mse: 288.23\n",
      "r2 score: -1.02\n"
     ]
    }
   ],
   "source": [
    "from sklearn.multioutput import MultiOutputRegressor\n",
    "from sklearn.neighbors import KNeighborsRegressor\n",
    "from sklearn.metrics import mean_squared_error, r2_score\n",
    "\n",
    "n_neighbors_list = [1, 5, 10]\n",
    "\n",
    "for n_neighbors in n_neighbors_list:\n",
    "    knn_regressor = MultiOutputRegressor(KNeighborsRegressor(n_neighbors=n_neighbors))\n",
    "    knn_regressor.fit(X_train, y_train)\n",
    "    y_pred = knn_regressor.predict(X_test)\n",
    "\n",
    "    print(f\"number of neighbors: {n_neighbors}\")\n",
    "    for i in range(y_test.shape[1]):\n",
    "        mse = mean_squared_error(y_test[:, i], y_pred[:, i])\n",
    "        r2 = r2_score(y_test[:, i], y_pred[:, i])\n",
    "        print(f\"  target {i + 1}:\")\n",
    "        print(f\"mse: {mse:.2f}\")\n",
    "        print(f\"r2 score: {r2:.2f}\")\n",
    "\n",
    "    r2_train = knn_regressor.score(X_train, y_train)\n",
    "    r2_test = knn_regressor.score(X_test, y_test)\n",
    "    overall_mse = mean_squared_error(y_test, y_pred)\n",
    "    overall_r2 = r2_score(y_test, y_pred)\n",
    "\n",
    "    print(\"overall performance:\")\n",
    "    print(f\"accuracy on the training dataset: {r2_train:.2f}\")\n",
    "    print(f\"accuracy on the testing dataset: {r2_test:.2f}\\n\")\n",
    "    print(f\"mse: {overall_mse:.2f}\")\n",
    "    print(f\"r2 score: {overall_r2:.2f}\\n\")"
   ],
   "metadata": {
    "collapsed": false,
    "ExecuteTime": {
     "start_time": "2023-11-07T17:57:59.331393200Z"
    }
   },
   "id": "b9b7f95f8e26d6c5"
  },
  {
   "cell_type": "markdown",
   "source": [
    "<h1 style=\"color: green\">LinearRegression<h1>"
   ],
   "metadata": {
    "collapsed": false
   },
   "id": "d7a4d51d1565b0e0"
  },
  {
   "cell_type": "code",
   "execution_count": 379,
   "outputs": [
    {
     "name": "stdout",
     "output_type": "stream",
     "text": [
      "  target 1:\n",
      "mse: 1008.94\n",
      "r2 score: -2.32\n",
      "  target 2:\n",
      "mse: 7.87\n",
      "r2 score: -1.05\n",
      "  target 3:\n",
      "mse: 124.58\n",
      "r2 score: -0.36\n",
      "overall performance:\n",
      "accuracy on the training dataset: 0.38\n",
      "accuracy on the testing dataset: -1.24\n",
      "\n",
      "mse: 380.46\n",
      "r2 score: -1.24\n"
     ]
    }
   ],
   "source": [
    "from sklearn.linear_model import LinearRegression\n",
    "\n",
    "le_reg = MultiOutputRegressor(LinearRegression())\n",
    "le_reg.fit(X_train, y_train)\n",
    "pred_y = le_reg.predict(X_test)\n",
    "\n",
    "for i in range(y_test.shape[1]):\n",
    "    mse = mean_squared_error(y_test[:, i], pred_y[:, i])\n",
    "    r2 = r2_score(y_test[:, i], pred_y[:, i])\n",
    "    print(f\"  target {i + 1}:\")\n",
    "    print(f\"mse: {mse:.2f}\")\n",
    "    print(f\"r2 score: {r2:.2f}\")\n",
    "\n",
    "le_r2_train = le_reg.score(X_train, y_train)\n",
    "le_r2_test = le_reg.score(X_test, y_test)\n",
    "le_overall_mse = mean_squared_error(y_test, pred_y)\n",
    "le_overall_r2 = r2_score(y_test, pred_y)\n",
    "\n",
    "print(\"overall performance:\")\n",
    "print(f\"accuracy on the training dataset: {le_r2_train:.2f}\")\n",
    "print(f\"accuracy on the testing dataset: {le_r2_test:.2f}\\n\")\n",
    "print(f\"mse: {le_overall_mse:.2f}\")\n",
    "print(f\"r2 score: {le_overall_r2:.2f}\\n\")\n"
   ],
   "metadata": {
    "collapsed": false,
    "ExecuteTime": {
     "end_time": "2023-11-07T18:01:07.468935900Z",
     "start_time": "2023-11-07T18:01:07.422070600Z"
    }
   },
   "id": "982be2b2e624c458"
  },
  {
   "cell_type": "markdown",
   "source": [
    "<h1 style=\"color: green\">Ridge<h1>"
   ],
   "metadata": {
    "collapsed": false
   },
   "id": "65465ec2d3db0774"
  },
  {
   "cell_type": "code",
   "execution_count": 380,
   "outputs": [
    {
     "name": "stdout",
     "output_type": "stream",
     "text": [
      "alpha: 0.01\n",
      "  target 1:\n",
      "mse: 1008.88\n",
      "r2 score: -2.32\n",
      "  target 2:\n",
      "mse: 7.86\n",
      "r2 score: -1.05\n",
      "  target 3:\n",
      "mse: 124.57\n",
      "r2 score: -0.36\n",
      "overall performance:\n",
      "accuracy on the training dataset: 0.38\n",
      "accuracy on the testing dataset: -1.24\n",
      "\n",
      "mse: 380.44\n",
      "r2 score: -1.24\n",
      "\n",
      "alpha: 0.0001\n",
      "  target 1:\n",
      "mse: 1008.94\n",
      "r2 score: -2.32\n",
      "  target 2:\n",
      "mse: 7.87\n",
      "r2 score: -1.05\n",
      "  target 3:\n",
      "mse: 124.58\n",
      "r2 score: -0.36\n",
      "overall performance:\n",
      "accuracy on the training dataset: 0.38\n",
      "accuracy on the testing dataset: -1.24\n",
      "\n",
      "mse: 380.46\n",
      "r2 score: -1.24\n",
      "\n",
      "alpha: 1\n",
      "  target 1:\n",
      "mse: 1003.29\n",
      "r2 score: -2.30\n",
      "  target 2:\n",
      "mse: 7.80\n",
      "r2 score: -1.03\n",
      "  target 3:\n",
      "mse: 124.41\n",
      "r2 score: -0.35\n",
      "overall performance:\n",
      "accuracy on the training dataset: 0.38\n",
      "accuracy on the testing dataset: -1.23\n",
      "\n",
      "mse: 378.50\n",
      "r2 score: -1.23\n"
     ]
    }
   ],
   "source": [
    "from sklearn.linear_model import Ridge\n",
    "\n",
    "alpha_list = [0.01, 0.0001, 1]\n",
    "\n",
    "for a in alpha_list:\n",
    "    ridge = MultiOutputRegressor(Ridge(alpha=a))\n",
    "    ridge.fit(X_train, y_train)\n",
    "    ridge_y_pred = ridge.predict(X_test)\n",
    "\n",
    "    print(f\"alpha: {a}\")\n",
    "    for i in range(y_test.shape[1]):\n",
    "        mse = mean_squared_error(y_test[:, i], ridge_y_pred[:, i])\n",
    "        r2 = r2_score(y_test[:, i], ridge_y_pred[:, i])\n",
    "        print(f\"  target {i + 1}:\")\n",
    "        print(f\"mse: {mse:.2f}\")\n",
    "        print(f\"r2 score: {r2:.2f}\")\n",
    "\n",
    "    r2_train = ridge.score(X_train, y_train)\n",
    "    r2_test = ridge.score(X_test, y_test)\n",
    "    overall_mse = mean_squared_error(y_test, ridge_y_pred)\n",
    "    overall_r2 = r2_score(y_test, ridge_y_pred)\n",
    "\n",
    "    print(\"overall performance:\")\n",
    "    print(f\"accuracy on the training dataset: {r2_train:.2f}\")\n",
    "    print(f\"accuracy on the testing dataset: {r2_test:.2f}\\n\")\n",
    "    print(f\"mse: {overall_mse:.2f}\")\n",
    "    print(f\"r2 score: {overall_r2:.2f}\\n\")"
   ],
   "metadata": {
    "collapsed": false,
    "ExecuteTime": {
     "end_time": "2023-11-07T18:01:49.662249200Z",
     "start_time": "2023-11-07T18:01:49.584099600Z"
    }
   },
   "id": "b9484b17c9511246"
  },
  {
   "cell_type": "markdown",
   "source": [
    "<h1 style=\"color: green\">Lasso<h1>"
   ],
   "metadata": {
    "collapsed": false
   },
   "id": "bf279a195cfc563d"
  },
  {
   "cell_type": "code",
   "execution_count": 381,
   "outputs": [
    {
     "name": "stdout",
     "output_type": "stream",
     "text": [
      "alpha: 0.01\n",
      "  target 1:\n",
      "mse: 1008.59\n",
      "r2 score: -2.32\n",
      "  target 2:\n",
      "mse: 7.83\n",
      "r2 score: -1.04\n",
      "  target 3:\n",
      "mse: 124.52\n",
      "r2 score: -0.36\n",
      "overall performance:\n",
      "accuracy on the training dataset: 0.38\n",
      "accuracy on the testing dataset: -1.24\n",
      "\n",
      "mse: 380.32\n",
      "r2 score: -1.24\n",
      "\n",
      "alpha: 0.0001\n",
      "  target 1:\n",
      "mse: 1008.93\n",
      "r2 score: -2.32\n",
      "  target 2:\n",
      "mse: 7.87\n",
      "r2 score: -1.05\n",
      "  target 3:\n",
      "mse: 124.58\n",
      "r2 score: -0.36\n",
      "overall performance:\n",
      "accuracy on the training dataset: 0.38\n",
      "accuracy on the testing dataset: -1.24\n",
      "\n",
      "mse: 380.46\n",
      "r2 score: -1.24\n",
      "\n",
      "alpha: 1\n",
      "  target 1:\n",
      "mse: 975.00\n",
      "r2 score: -2.20\n",
      "  target 2:\n",
      "mse: 5.52\n",
      "r2 score: -0.44\n",
      "  target 3:\n",
      "mse: 120.01\n",
      "r2 score: -0.31\n",
      "overall performance:\n",
      "accuracy on the training dataset: 0.38\n",
      "accuracy on the testing dataset: -0.98\n",
      "\n",
      "mse: 366.84\n",
      "r2 score: -0.98\n"
     ]
    }
   ],
   "source": [
    "from sklearn.linear_model import Lasso\n",
    "\n",
    "alpha_list = [0.01, 0.0001, 1]\n",
    "\n",
    "for a in alpha_list:\n",
    "    lasso = MultiOutputRegressor(Lasso(alpha=a))\n",
    "    lasso.fit(X_train, y_train)\n",
    "    lasso_y_pred = lasso.predict(X_test)\n",
    "\n",
    "    print(f\"alpha: {a}\")\n",
    "    for i in range(y_test.shape[1]):\n",
    "        mse = mean_squared_error(y_test[:, i], lasso_y_pred[:, i])\n",
    "        r2 = r2_score(y_test[:, i], lasso_y_pred[:, i])\n",
    "        print(f\"  target {i + 1}:\")\n",
    "        print(f\"mse: {mse:.2f}\")\n",
    "        print(f\"r2 score: {r2:.2f}\")\n",
    "\n",
    "    r2_train = lasso.score(X_train, y_train)\n",
    "    r2_test = lasso.score(X_test, y_test)\n",
    "    overall_mse = mean_squared_error(y_test, lasso_y_pred)\n",
    "    overall_r2 = r2_score(y_test, lasso_y_pred)\n",
    "\n",
    "    print(\"overall performance:\")\n",
    "    print(f\"accuracy on the training dataset: {r2_train:.2f}\")\n",
    "    print(f\"accuracy on the testing dataset: {r2_test:.2f}\\n\")\n",
    "    print(f\"mse: {overall_mse:.2f}\")\n",
    "    print(f\"r2 score: {overall_r2:.2f}\\n\")"
   ],
   "metadata": {
    "collapsed": false,
    "ExecuteTime": {
     "end_time": "2023-11-07T18:06:00.615367100Z",
     "start_time": "2023-11-07T18:06:00.537260400Z"
    }
   },
   "id": "81f08efcfee51f84"
  },
  {
   "cell_type": "markdown",
   "source": [
    "<h1 style=\"color: green\">LogisticRegression<h1>"
   ],
   "metadata": {
    "collapsed": false
   },
   "id": "906d2ab616751d30"
  },
  {
   "cell_type": "code",
   "execution_count": 382,
   "outputs": [
    {
     "name": "stdout",
     "output_type": "stream",
     "text": [
      "C: 0.01\n",
      "  target 1:\n",
      "mse: 472.60\n",
      "r2 score: -0.55\n",
      "  target 2:\n",
      "mse: 2.60\n",
      "r2 score: 0.32\n",
      "  target 3:\n",
      "mse: 166.40\n",
      "r2 score: -0.81\n",
      "overall performance:\n",
      "accuracy on the training dataset: -0.22\n",
      "accuracy on the testing dataset: -0.35\n",
      "\n",
      "mse: 213.87\n",
      "r2 score: -0.35\n"
     ]
    },
    {
     "name": "stderr",
     "output_type": "stream",
     "text": [
      "C:\\Users\\User\\PycharmProjects\\BigDataLabs\\venv\\lib\\site-packages\\sklearn\\linear_model\\_logistic.py:460: ConvergenceWarning: lbfgs failed to converge (status=1):\n",
      "STOP: TOTAL NO. of ITERATIONS REACHED LIMIT.\n",
      "\n",
      "Increase the number of iterations (max_iter) or scale the data as shown in:\n",
      "    https://scikit-learn.org/stable/modules/preprocessing.html\n",
      "Please also refer to the documentation for alternative solver options:\n",
      "    https://scikit-learn.org/stable/modules/linear_model.html#logistic-regression\n",
      "  n_iter_i = _check_optimize_result(\n",
      "C:\\Users\\User\\PycharmProjects\\BigDataLabs\\venv\\lib\\site-packages\\sklearn\\linear_model\\_logistic.py:460: ConvergenceWarning: lbfgs failed to converge (status=1):\n",
      "STOP: TOTAL NO. of ITERATIONS REACHED LIMIT.\n",
      "\n",
      "Increase the number of iterations (max_iter) or scale the data as shown in:\n",
      "    https://scikit-learn.org/stable/modules/preprocessing.html\n",
      "Please also refer to the documentation for alternative solver options:\n",
      "    https://scikit-learn.org/stable/modules/linear_model.html#logistic-regression\n",
      "  n_iter_i = _check_optimize_result(\n"
     ]
    },
    {
     "name": "stdout",
     "output_type": "stream",
     "text": [
      "C: 1\n",
      "  target 1:\n",
      "mse: 479.20\n",
      "r2 score: -0.58\n",
      "  target 2:\n",
      "mse: 5.60\n",
      "r2 score: -0.46\n",
      "  target 3:\n",
      "mse: 153.60\n",
      "r2 score: -0.67\n",
      "overall performance:\n",
      "accuracy on the training dataset: 0.43\n",
      "accuracy on the testing dataset: -0.57\n",
      "\n",
      "mse: 212.80\n",
      "r2 score: -0.57\n"
     ]
    },
    {
     "name": "stderr",
     "output_type": "stream",
     "text": [
      "C:\\Users\\User\\PycharmProjects\\BigDataLabs\\venv\\lib\\site-packages\\sklearn\\linear_model\\_logistic.py:460: ConvergenceWarning: lbfgs failed to converge (status=1):\n",
      "STOP: TOTAL NO. of ITERATIONS REACHED LIMIT.\n",
      "\n",
      "Increase the number of iterations (max_iter) or scale the data as shown in:\n",
      "    https://scikit-learn.org/stable/modules/preprocessing.html\n",
      "Please also refer to the documentation for alternative solver options:\n",
      "    https://scikit-learn.org/stable/modules/linear_model.html#logistic-regression\n",
      "  n_iter_i = _check_optimize_result(\n",
      "C:\\Users\\User\\PycharmProjects\\BigDataLabs\\venv\\lib\\site-packages\\sklearn\\linear_model\\_logistic.py:460: ConvergenceWarning: lbfgs failed to converge (status=1):\n",
      "STOP: TOTAL NO. of ITERATIONS REACHED LIMIT.\n",
      "\n",
      "Increase the number of iterations (max_iter) or scale the data as shown in:\n",
      "    https://scikit-learn.org/stable/modules/preprocessing.html\n",
      "Please also refer to the documentation for alternative solver options:\n",
      "    https://scikit-learn.org/stable/modules/linear_model.html#logistic-regression\n",
      "  n_iter_i = _check_optimize_result(\n"
     ]
    },
    {
     "name": "stdout",
     "output_type": "stream",
     "text": [
      "C: 100\n",
      "  target 1:\n",
      "mse: 447.20\n",
      "r2 score: -0.47\n",
      "  target 2:\n",
      "mse: 6.00\n",
      "r2 score: -0.56\n",
      "  target 3:\n",
      "mse: 164.00\n",
      "r2 score: -0.79\n",
      "overall performance:\n",
      "accuracy on the training dataset: 0.47\n",
      "accuracy on the testing dataset: -0.61\n",
      "\n",
      "mse: 205.73\n",
      "r2 score: -0.61\n"
     ]
    },
    {
     "name": "stderr",
     "output_type": "stream",
     "text": [
      "C:\\Users\\User\\PycharmProjects\\BigDataLabs\\venv\\lib\\site-packages\\sklearn\\linear_model\\_logistic.py:460: ConvergenceWarning: lbfgs failed to converge (status=1):\n",
      "STOP: TOTAL NO. of ITERATIONS REACHED LIMIT.\n",
      "\n",
      "Increase the number of iterations (max_iter) or scale the data as shown in:\n",
      "    https://scikit-learn.org/stable/modules/preprocessing.html\n",
      "Please also refer to the documentation for alternative solver options:\n",
      "    https://scikit-learn.org/stable/modules/linear_model.html#logistic-regression\n",
      "  n_iter_i = _check_optimize_result(\n"
     ]
    }
   ],
   "source": [
    "from sklearn.linear_model import LogisticRegression\n",
    "\n",
    "c_list = [0.01, 1, 100]\n",
    "\n",
    "for c in c_list:\n",
    "    logistic = MultiOutputRegressor(LogisticRegression(C=c,max_iter=10000))\n",
    "    logistic.fit(X_train, y_train)\n",
    "    log_y_pred = logistic.predict(X_test)\n",
    "\n",
    "    print(f\"C: {c}\")\n",
    "    for i in range(y_test.shape[1]):\n",
    "        mse = mean_squared_error(y_test[:, i], log_y_pred[:, i])\n",
    "        r2 = r2_score(y_test[:, i], log_y_pred[:, i])\n",
    "        print(f\"  target {i + 1}:\")\n",
    "        print(f\"mse: {mse:.2f}\")\n",
    "        print(f\"r2 score: {r2:.2f}\")\n",
    "\n",
    "    r2_train = logistic.score(X_train, y_train)\n",
    "    r2_test = logistic.score(X_test, y_test)\n",
    "    overall_mse = mean_squared_error(y_test, log_y_pred)\n",
    "    overall_r2 = r2_score(y_test, log_y_pred)\n",
    "\n",
    "    print(\"overall performance:\")\n",
    "    print(f\"accuracy on the training dataset: {r2_train:.2f}\")\n",
    "    print(f\"accuracy on the testing dataset: {r2_test:.2f}\\n\")\n",
    "    print(f\"mse: {overall_mse:.2f}\")\n",
    "    print(f\"r2 score: {overall_r2:.2f}\\n\")"
   ],
   "metadata": {
    "collapsed": false,
    "ExecuteTime": {
     "end_time": "2023-11-07T18:08:55.908081700Z",
     "start_time": "2023-11-07T18:08:44.993194900Z"
    }
   },
   "id": "31dc52d65be8b2e7"
  }
 ],
 "metadata": {
  "kernelspec": {
   "display_name": "Python 3",
   "language": "python",
   "name": "python3"
  },
  "language_info": {
   "codemirror_mode": {
    "name": "ipython",
    "version": 2
   },
   "file_extension": ".py",
   "mimetype": "text/x-python",
   "name": "python",
   "nbconvert_exporter": "python",
   "pygments_lexer": "ipython2",
   "version": "2.7.6"
  }
 },
 "nbformat": 4,
 "nbformat_minor": 5
}
