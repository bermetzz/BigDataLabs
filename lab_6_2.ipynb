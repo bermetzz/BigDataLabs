{
 "cells": [
  {
   "cell_type": "code",
   "execution_count": 160,
   "outputs": [],
   "source": [
    "import csv\n",
    "import random\n",
    "\n",
    "path = r'D:\\big_data_lab.csv'\n",
    "headers = ['salary', 'city', 'age', 'vacation_prefer', 'transport_prefer', 'target']\n",
    "rows = 1000\n",
    "\n",
    "with open(path, 'w', newline='') as file:\n",
    "    writer = csv.writer(file)\n",
    "    writer.writerow(headers)\n",
    "\n",
    "    for _ in range(rows):\n",
    "        salary = random.randint(10000, 90000)\n",
    "        city = random.choice(['Osh', 'Bishkek', 'IK'])\n",
    "        age = random.randint(21, 70)\n",
    "        vacation_prefer = random.choice(['Shopping', 'Beach', 'Camping'])\n",
    "        transport_prefer = random.choice(['plane', 'auto', 'bus'])\n",
    "        target = random.choice(['Milan', 'Barcelona', 'Interlaken'])\n",
    "\n",
    "        writer.writerow([salary, city, age, vacation_prefer, transport_prefer, target])"
   ],
   "metadata": {
    "collapsed": false,
    "ExecuteTime": {
     "end_time": "2023-12-05T10:39:00.843108300Z",
     "start_time": "2023-12-05T10:39:00.796213800Z"
    }
   },
   "id": "initial_id"
  },
  {
   "cell_type": "code",
   "execution_count": 161,
   "outputs": [
    {
     "data": {
      "text/plain": "salary              0\ncity                0\nage                 0\nvacation_prefer     0\ntransport_prefer    0\ntarget              0\ndtype: int64"
     },
     "execution_count": 161,
     "metadata": {},
     "output_type": "execute_result"
    }
   ],
   "source": [
    "import pandas as pd\n",
    "\n",
    "holiday_df = pd.read_csv(path)\n",
    "df = holiday_df.copy(deep=True)\n",
    "holiday_df.isnull().sum()"
   ],
   "metadata": {
    "collapsed": false,
    "ExecuteTime": {
     "end_time": "2023-12-05T10:39:01.797288400Z",
     "start_time": "2023-12-05T10:39:01.766025100Z"
    }
   },
   "id": "cbb4ac4b161f8d0f"
  },
  {
   "cell_type": "code",
   "execution_count": 164,
   "outputs": [
    {
     "name": "stdout",
     "output_type": "stream",
     "text": [
      "predicted target city: Interlaken\n",
      "Accuracy: 0.324\n"
     ]
    }
   ],
   "source": [
    "from sklearn.model_selection import train_test_split\n",
    "from sklearn.svm import SVC\n",
    "from sklearn.preprocessing import MinMaxScaler, OneHotEncoder\n",
    "from sklearn.compose import ColumnTransformer\n",
    "from sklearn.pipeline import Pipeline\n",
    "from sklearn.metrics import accuracy_score\n",
    "\n",
    "categorical_columns = ['city', 'vacation_prefer', 'transport_prefer', 'target']\n",
    "\n",
    "X = df.drop('target', axis=1)\n",
    "y = df['target']\n",
    "\n",
    "X_train, X_test, y_train, y_test = train_test_split(X, y, random_state=0)\n",
    "\n",
    "num_features = X.select_dtypes(include=['int64', 'float64']).columns\n",
    "transformer = MinMaxScaler()\n",
    "\n",
    "# exclude 'target'\n",
    "cat_features = categorical_columns[:-1]\n",
    "transformer1 = OneHotEncoder(handle_unknown='ignore')\n",
    "\n",
    "preprocessor = ColumnTransformer(\n",
    "    transformers=[\n",
    "        ('num', transformer, num_features),\n",
    "        ('cat', transformer1, cat_features)\n",
    "    ])\n",
    "\n",
    "svm = SVC()\n",
    "clf = Pipeline(steps=[('preprocessor', preprocessor),\n",
    "                      ('classifier', svm)])\n",
    "clf.fit(X_train, y_train)\n",
    "\n",
    "data_predict = pd.DataFrame({\n",
    "    'salary': [80000],\n",
    "    'city': ['Osh'],\n",
    "    'age': [22],\n",
    "    'vacation_prefer': ['Camping'],\n",
    "    'transport_prefer': ['bus']\n",
    "})\n",
    "\n",
    "# ensure the columns are in the same order as the training data\n",
    "data_predict = data_predict[X.columns]\n",
    "\n",
    "prediction = clf.predict(data_predict)\n",
    "print('predicted target city:', prediction[0])\n",
    "y_pred = clf.predict(X_test)\n",
    "accuracy = accuracy_score(y_test, y_pred)\n",
    "print('Accuracy:', accuracy)"
   ],
   "metadata": {
    "collapsed": false,
    "ExecuteTime": {
     "end_time": "2023-12-05T10:39:20.671683300Z",
     "start_time": "2023-12-05T10:39:20.496026Z"
    }
   },
   "id": "12fe38b21c9c5d2e"
  },
  {
   "cell_type": "code",
   "execution_count": 165,
   "outputs": [
    {
     "data": {
      "text/plain": "     salary  city  age  vacation_prefer  transport_prefer  target\n0     17715     0   24                0                 1       2\n1     60071     1   62                0                 0       1\n2     80734     0   50                1                 1       0\n3     72518     0   39                0                 2       0\n4     30995     2   24                2                 1       1\n..      ...   ...  ...              ...               ...     ...\n995   45030     0   44                2                 1       2\n996   17296     0   29                2                 2       0\n997   33428     2   54                1                 1       1\n998   88351     1   53                2                 1       1\n999   76598     1   52                0                 1       2\n\n[1000 rows x 6 columns]",
      "text/html": "<div>\n<style scoped>\n    .dataframe tbody tr th:only-of-type {\n        vertical-align: middle;\n    }\n\n    .dataframe tbody tr th {\n        vertical-align: top;\n    }\n\n    .dataframe thead th {\n        text-align: right;\n    }\n</style>\n<table border=\"1\" class=\"dataframe\">\n  <thead>\n    <tr style=\"text-align: right;\">\n      <th></th>\n      <th>salary</th>\n      <th>city</th>\n      <th>age</th>\n      <th>vacation_prefer</th>\n      <th>transport_prefer</th>\n      <th>target</th>\n    </tr>\n  </thead>\n  <tbody>\n    <tr>\n      <th>0</th>\n      <td>17715</td>\n      <td>0</td>\n      <td>24</td>\n      <td>0</td>\n      <td>1</td>\n      <td>2</td>\n    </tr>\n    <tr>\n      <th>1</th>\n      <td>60071</td>\n      <td>1</td>\n      <td>62</td>\n      <td>0</td>\n      <td>0</td>\n      <td>1</td>\n    </tr>\n    <tr>\n      <th>2</th>\n      <td>80734</td>\n      <td>0</td>\n      <td>50</td>\n      <td>1</td>\n      <td>1</td>\n      <td>0</td>\n    </tr>\n    <tr>\n      <th>3</th>\n      <td>72518</td>\n      <td>0</td>\n      <td>39</td>\n      <td>0</td>\n      <td>2</td>\n      <td>0</td>\n    </tr>\n    <tr>\n      <th>4</th>\n      <td>30995</td>\n      <td>2</td>\n      <td>24</td>\n      <td>2</td>\n      <td>1</td>\n      <td>1</td>\n    </tr>\n    <tr>\n      <th>...</th>\n      <td>...</td>\n      <td>...</td>\n      <td>...</td>\n      <td>...</td>\n      <td>...</td>\n      <td>...</td>\n    </tr>\n    <tr>\n      <th>995</th>\n      <td>45030</td>\n      <td>0</td>\n      <td>44</td>\n      <td>2</td>\n      <td>1</td>\n      <td>2</td>\n    </tr>\n    <tr>\n      <th>996</th>\n      <td>17296</td>\n      <td>0</td>\n      <td>29</td>\n      <td>2</td>\n      <td>2</td>\n      <td>0</td>\n    </tr>\n    <tr>\n      <th>997</th>\n      <td>33428</td>\n      <td>2</td>\n      <td>54</td>\n      <td>1</td>\n      <td>1</td>\n      <td>1</td>\n    </tr>\n    <tr>\n      <th>998</th>\n      <td>88351</td>\n      <td>1</td>\n      <td>53</td>\n      <td>2</td>\n      <td>1</td>\n      <td>1</td>\n    </tr>\n    <tr>\n      <th>999</th>\n      <td>76598</td>\n      <td>1</td>\n      <td>52</td>\n      <td>0</td>\n      <td>1</td>\n      <td>2</td>\n    </tr>\n  </tbody>\n</table>\n<p>1000 rows × 6 columns</p>\n</div>"
     },
     "execution_count": 165,
     "metadata": {},
     "output_type": "execute_result"
    }
   ],
   "source": [
    "from sklearn.preprocessing import LabelEncoder\n",
    "\n",
    "categorical_columns = ['city', 'vacation_prefer', 'transport_prefer', 'target']\n",
    "le = LabelEncoder()\n",
    "\n",
    "for c in categorical_columns:\n",
    "    df[c] = le.fit_transform(df[c])\n",
    "\n",
    "df"
   ],
   "metadata": {
    "collapsed": false,
    "ExecuteTime": {
     "end_time": "2023-12-05T10:39:26.222103800Z",
     "start_time": "2023-12-05T10:39:26.175241100Z"
    }
   },
   "id": "c3474255f4999915"
  },
  {
   "cell_type": "code",
   "execution_count": 166,
   "outputs": [
    {
     "name": "stdout",
     "output_type": "stream",
     "text": [
      "model accuracy: 0.288\n"
     ]
    }
   ],
   "source": [
    "from sklearn.model_selection import train_test_split\n",
    "from sklearn.preprocessing import MinMaxScaler\n",
    "from sklearn.svm import SVC\n",
    "from sklearn.metrics import accuracy_score\n",
    "\n",
    "X = df.drop('target', axis=1)\n",
    "y = df['target']\n",
    "\n",
    "# normalize\n",
    "scaler = MinMaxScaler()\n",
    "X_scaled = scaler.fit_transform(X)\n",
    "\n",
    "X_train, X_test, y_train, y_test = train_test_split(X_scaled, y, random_state=0)\n",
    "\n",
    "svm = SVC()\n",
    "svm.fit(X_train, y_train)\n",
    "\n",
    "y_pred = svm.predict(X_test)\n",
    "\n",
    "accuracy = accuracy_score(y_test, y_pred)\n",
    "print('model accuracy:', accuracy)"
   ],
   "metadata": {
    "collapsed": false,
    "ExecuteTime": {
     "end_time": "2023-12-05T10:39:28.227218300Z",
     "start_time": "2023-12-05T10:39:28.117870100Z"
    }
   },
   "id": "3c001826b7955da6"
  },
  {
   "cell_type": "code",
   "execution_count": 167,
   "outputs": [
    {
     "name": "stdout",
     "output_type": "stream",
     "text": [
      "[[18 31 23]\n",
      " [29 36 24]\n",
      " [32 39 18]]\n"
     ]
    },
    {
     "data": {
      "text/plain": "<Figure size 640x480 with 2 Axes>",
      "image/png": "[encoded data removed]"
     },
     "metadata": {},
     "output_type": "display_data"
    }
   ],
   "source": [
    "from sklearn.metrics import confusion_matrix\n",
    "import seaborn as sns\n",
    "import matplotlib.pyplot as plt\n",
    "\n",
    "confusion = confusion_matrix(y_test, y_pred)\n",
    "print(confusion)\n",
    "\n",
    "sns.heatmap(confusion, annot=True)\n",
    "\n",
    "plt.xlabel('predicted')\n",
    "plt.ylabel('actual')\n",
    "plt.show()"
   ],
   "metadata": {
    "collapsed": false,
    "ExecuteTime": {
     "end_time": "2023-12-05T10:39:37.936280800Z",
     "start_time": "2023-12-05T10:39:37.532127500Z"
    }
   },
   "id": "85ffdcf32a592785"
  },
  {
   "cell_type": "code",
   "execution_count": 168,
   "outputs": [
    {
     "name": "stdout",
     "output_type": "stream",
     "text": [
      "best SVM score: 0.356\n",
      "best parameters: {'gamma': 0.001, 'C': 0.001}\n"
     ]
    }
   ],
   "source": [
    "from sklearn.svm import SVC\n",
    "\n",
    "best_svc = 0\n",
    "for gamma in [0.001, 0.01, 0.1, 1, 10, 100]:\n",
    "    for C in [0.001, 0.01, 0.1, 1, 10, 100]:\n",
    "        svm = SVC(gamma=gamma, C=C)\n",
    "        svm.fit(X_train, y_train)\n",
    "        s_score = svm.score(X_test, y_test)\n",
    "\n",
    "        if s_score > best_svc:\n",
    "            best_svc = s_score\n",
    "            best_combo = {'gamma': gamma, 'C': C}\n",
    "\n",
    "print('best SVM score: {}'.format(best_svc))\n",
    "print('best parameters: {}'.format(best_combo))"
   ],
   "metadata": {
    "collapsed": false,
    "ExecuteTime": {
     "end_time": "2023-12-05T10:39:45.303131700Z",
     "start_time": "2023-12-05T10:39:42.110042500Z"
    }
   },
   "id": "85241846ce5da1c9"
  },
  {
   "cell_type": "code",
   "execution_count": 169,
   "outputs": [
    {
     "name": "stdout",
     "output_type": "stream",
     "text": [
      "test score: 0.332\n",
      "best params:  {'C': 1, 'gamma': 0.001}\n",
      "best score:  0.3573333333333334\n",
      "whole args view : SVC(C=1, gamma=0.001)\n"
     ]
    },
    {
     "data": {
      "text/plain": "   mean_fit_time  std_fit_time  mean_score_time  std_score_time param_C  \\\n0       0.071420      0.029782         0.020208        0.009604   0.001   \n1       0.122733      0.049008         0.047066        0.021223   0.001   \n2       0.046873      0.009882         0.018737        0.006254   0.001   \n3       0.057089      0.006745         0.015623        0.000001   0.001   \n4       0.056977      0.012947         0.019582        0.006050   0.001   \n\n  param_gamma                        params  split0_test_score  \\\n0       0.001  {'C': 0.001, 'gamma': 0.001}           0.346667   \n1        0.01   {'C': 0.001, 'gamma': 0.01}           0.346667   \n2         0.1    {'C': 0.001, 'gamma': 0.1}           0.346667   \n3           1      {'C': 0.001, 'gamma': 1}           0.346667   \n4          10     {'C': 0.001, 'gamma': 10}           0.346667   \n\n   split1_test_score  split2_test_score  split3_test_score  split4_test_score  \\\n0               0.34           0.346667           0.346667           0.346667   \n1               0.34           0.346667           0.346667           0.346667   \n2               0.34           0.346667           0.346667           0.346667   \n3               0.34           0.346667           0.346667           0.346667   \n4               0.34           0.346667           0.346667           0.346667   \n\n   mean_test_score  std_test_score  rank_test_score  \n0         0.345333        0.002667                4  \n1         0.345333        0.002667                4  \n2         0.345333        0.002667                4  \n3         0.345333        0.002667                4  \n4         0.345333        0.002667                4  ",
      "text/html": "<div>\n<style scoped>\n    .dataframe tbody tr th:only-of-type {\n        vertical-align: middle;\n    }\n\n    .dataframe tbody tr th {\n        vertical-align: top;\n    }\n\n    .dataframe thead th {\n        text-align: right;\n    }\n</style>\n<table border=\"1\" class=\"dataframe\">\n  <thead>\n    <tr style=\"text-align: right;\">\n      <th></th>\n      <th>mean_fit_time</th>\n      <th>std_fit_time</th>\n      <th>mean_score_time</th>\n      <th>std_score_time</th>\n      <th>param_C</th>\n      <th>param_gamma</th>\n      <th>params</th>\n      <th>split0_test_score</th>\n      <th>split1_test_score</th>\n      <th>split2_test_score</th>\n      <th>split3_test_score</th>\n      <th>split4_test_score</th>\n      <th>mean_test_score</th>\n      <th>std_test_score</th>\n      <th>rank_test_score</th>\n    </tr>\n  </thead>\n  <tbody>\n    <tr>\n      <th>0</th>\n      <td>0.071420</td>\n      <td>0.029782</td>\n      <td>0.020208</td>\n      <td>0.009604</td>\n      <td>0.001</td>\n      <td>0.001</td>\n      <td>{'C': 0.001, 'gamma': 0.001}</td>\n      <td>0.346667</td>\n      <td>0.34</td>\n      <td>0.346667</td>\n      <td>0.346667</td>\n      <td>0.346667</td>\n      <td>0.345333</td>\n      <td>0.002667</td>\n      <td>4</td>\n    </tr>\n    <tr>\n      <th>1</th>\n      <td>0.122733</td>\n      <td>0.049008</td>\n      <td>0.047066</td>\n      <td>0.021223</td>\n      <td>0.001</td>\n      <td>0.01</td>\n      <td>{'C': 0.001, 'gamma': 0.01}</td>\n      <td>0.346667</td>\n      <td>0.34</td>\n      <td>0.346667</td>\n      <td>0.346667</td>\n      <td>0.346667</td>\n      <td>0.345333</td>\n      <td>0.002667</td>\n      <td>4</td>\n    </tr>\n    <tr>\n      <th>2</th>\n      <td>0.046873</td>\n      <td>0.009882</td>\n      <td>0.018737</td>\n      <td>0.006254</td>\n      <td>0.001</td>\n      <td>0.1</td>\n      <td>{'C': 0.001, 'gamma': 0.1}</td>\n      <td>0.346667</td>\n      <td>0.34</td>\n      <td>0.346667</td>\n      <td>0.346667</td>\n      <td>0.346667</td>\n      <td>0.345333</td>\n      <td>0.002667</td>\n      <td>4</td>\n    </tr>\n    <tr>\n      <th>3</th>\n      <td>0.057089</td>\n      <td>0.006745</td>\n      <td>0.015623</td>\n      <td>0.000001</td>\n      <td>0.001</td>\n      <td>1</td>\n      <td>{'C': 0.001, 'gamma': 1}</td>\n      <td>0.346667</td>\n      <td>0.34</td>\n      <td>0.346667</td>\n      <td>0.346667</td>\n      <td>0.346667</td>\n      <td>0.345333</td>\n      <td>0.002667</td>\n      <td>4</td>\n    </tr>\n    <tr>\n      <th>4</th>\n      <td>0.056977</td>\n      <td>0.012947</td>\n      <td>0.019582</td>\n      <td>0.006050</td>\n      <td>0.001</td>\n      <td>10</td>\n      <td>{'C': 0.001, 'gamma': 10}</td>\n      <td>0.346667</td>\n      <td>0.34</td>\n      <td>0.346667</td>\n      <td>0.346667</td>\n      <td>0.346667</td>\n      <td>0.345333</td>\n      <td>0.002667</td>\n      <td>4</td>\n    </tr>\n  </tbody>\n</table>\n</div>"
     },
     "metadata": {},
     "output_type": "display_data"
    }
   ],
   "source": [
    "# grid search using sklearn lib\n",
    "from sklearn.model_selection import GridSearchCV\n",
    "\n",
    "grid1 = {'gamma': [0.001, 0.01, 0.1, 1, 10, 100], 'C': [0.001, 0.01, 0.1, 1, 10, 100]}\n",
    "gs1 = GridSearchCV(SVC(), grid1, cv=5)\n",
    "X_train, X_test, y_train, y_test = train_test_split(X, y, random_state=0)\n",
    "gs1.fit(X_train, y_train)\n",
    "score1 = gs1.score(X_test, y_test)\n",
    "\n",
    "print('test score:', score1)\n",
    "print('best params: ', gs1.best_params_)\n",
    "print('best score: ', gs1.best_score_)\n",
    "print('whole args view :', gs1.best_estimator_)\n",
    "\n",
    "results1 = pd.DataFrame(gs1.cv_results_)\n",
    "display(results1.head())"
   ],
   "metadata": {
    "collapsed": false,
    "ExecuteTime": {
     "end_time": "2023-12-05T10:40:02.535981800Z",
     "start_time": "2023-12-05T10:39:48.415287700Z"
    }
   },
   "id": "50ad863cd80b34ca"
  },
  {
   "cell_type": "code",
   "execution_count": 170,
   "outputs": [
    {
     "data": {
      "text/plain": "<Figure size 640x480 with 2 Axes>",
      "image/png": "[encoded data removed]"
     },
     "metadata": {},
     "output_type": "display_data"
    }
   ],
   "source": [
    "import seaborn as sns\n",
    "import matplotlib.pyplot as plt\n",
    "import numpy as np\n",
    "\n",
    "sc = np.array(results1.mean_test_score).reshape(6, 6)\n",
    "ax = sns.heatmap(sc, annot=True, xticklabels=grid1['gamma'], yticklabels=grid1['C'], cmap='hsv')\n",
    "ax.set(xlabel='gamma', ylabel='C')\n",
    "ax.xaxis.tick_top()\n",
    "\n",
    "plt.show()"
   ],
   "metadata": {
    "collapsed": false,
    "ExecuteTime": {
     "end_time": "2023-12-05T10:40:07.203703800Z",
     "start_time": "2023-12-05T10:40:06.748445300Z"
    }
   },
   "id": "a5b85cfcb5167868"
  },
  {
   "cell_type": "code",
   "execution_count": 171,
   "outputs": [
    {
     "name": "stdout",
     "output_type": "stream",
     "text": [
      "              precision    recall  f1-score   support\n",
      "\n",
      "           0       0.23      0.25      0.24        72\n",
      "           1       0.34      0.40      0.37        89\n",
      "           2       0.28      0.20      0.23        89\n",
      "\n",
      "    accuracy                           0.29       250\n",
      "   macro avg       0.28      0.29      0.28       250\n",
      "weighted avg       0.29      0.29      0.28       250\n"
     ]
    }
   ],
   "source": [
    "from sklearn.metrics import classification_report\n",
    "\n",
    "print(classification_report(y_test, y_pred))"
   ],
   "metadata": {
    "collapsed": false,
    "ExecuteTime": {
     "end_time": "2023-12-05T10:43:39.727487300Z",
     "start_time": "2023-12-05T10:43:39.649299800Z"
    }
   },
   "id": "9dad4339c2d86644"
  }
 ],
 "metadata": {
  "kernelspec": {
   "display_name": "Python 3",
   "language": "python",
   "name": "python3"
  },
  "language_info": {
   "codemirror_mode": {
    "name": "ipython",
    "version": 2
   },
   "file_extension": ".py",
   "mimetype": "text/x-python",
   "name": "python",
   "nbconvert_exporter": "python",
   "pygments_lexer": "ipython2",
   "version": "2.7.6"
  }
 },
 "nbformat": 4,
 "nbformat_minor": 5
}
